{
  "nbformat": 4,
  "nbformat_minor": 0,
  "metadata": {
    "colab": {
      "provenance": []
    },
    "kernelspec": {
      "name": "python3",
      "display_name": "Python 3"
    },
    "language_info": {
      "name": "python"
    }
  },
  "cells": [
    {
      "cell_type": "code",
      "execution_count": 9,
      "metadata": {
        "id": "UNioSKee2i1A"
      },
      "outputs": [],
      "source": [
        "import numpy as np\n",
        "from tensorflow.keras.datasets import cifar10\n",
        "from tensorflow.keras.applications import VGG16\n",
        "from tensorflow.keras.models import Model, Sequential\n",
        "from tensorflow.keras.layers import Flatten, Dense\n",
        "from tensorflow.keras.utils import to_categorical"
      ]
    },
    {
      "cell_type": "code",
      "source": [
        "(x_train, y_train), (x_test, y_test) = cifar10.load_data()"
      ],
      "metadata": {
        "colab": {
          "base_uri": "https://localhost:8080/"
        },
        "id": "i0TP8_e0PYPf",
        "outputId": "a207ab3e-43de-4483-9375-abc37fd8fe53"
      },
      "execution_count": 2,
      "outputs": [
        {
          "output_type": "stream",
          "name": "stdout",
          "text": [
            "Downloading data from https://www.cs.toronto.edu/~kriz/cifar-10-python.tar.gz\n",
            "170498071/170498071 [==============================] - 6s 0us/step\n"
          ]
        }
      ]
    },
    {
      "cell_type": "code",
      "source": [
        "x_train = x_train.astype('float32') / 255.0\n",
        "x_test = x_test.astype('float32') / 255.0\n",
        "y_train = to_categorical(y_train, 10)\n",
        "y_test = to_categorical(y_test, 10)"
      ],
      "metadata": {
        "id": "j_ZB5Q-gPfDN"
      },
      "execution_count": 3,
      "outputs": []
    },
    {
      "cell_type": "code",
      "source": [
        "base_model = VGG16(weights='imagenet', include_top=False, input_shape=(32, 32, 3))"
      ],
      "metadata": {
        "colab": {
          "base_uri": "https://localhost:8080/"
        },
        "id": "yd4odkmOPq6m",
        "outputId": "88fead26-875d-41c3-8a97-b51a6204dca4"
      },
      "execution_count": 4,
      "outputs": [
        {
          "output_type": "stream",
          "name": "stdout",
          "text": [
            "Downloading data from https://storage.googleapis.com/tensorflow/keras-applications/vgg16/vgg16_weights_tf_dim_ordering_tf_kernels_notop.h5\n",
            "58889256/58889256 [==============================] - 0s 0us/step\n"
          ]
        }
      ]
    },
    {
      "cell_type": "code",
      "source": [
        "model = Model(inputs=base_model.input, outputs=base_model.get_layer('block5_pool').output)\n",
        "features_train = model.predict(x_train)\n",
        "features_test = model.predict(x_test)"
      ],
      "metadata": {
        "colab": {
          "base_uri": "https://localhost:8080/"
        },
        "id": "vQ5VuK20PybP",
        "outputId": "da6614a6-9a35-46f7-ea9e-9c6186bc54a9"
      },
      "execution_count": 5,
      "outputs": [
        {
          "output_type": "stream",
          "name": "stdout",
          "text": [
            "1563/1563 [==============================] - 557s 356ms/step\n",
            "313/313 [==============================] - 106s 339ms/step\n"
          ]
        }
      ]
    },
    {
      "cell_type": "code",
      "source": [
        "features_train_flat = features_train.reshape(features_train.shape[0], -1)\n",
        "features_test_flat = features_test.reshape(features_test.shape[0], -1)"
      ],
      "metadata": {
        "id": "ml699cczP46a"
      },
      "execution_count": 6,
      "outputs": []
    },
    {
      "cell_type": "code",
      "source": [
        "classifier = Sequential([\n",
        "    Dense(256, activation='relu', input_shape=(features_train_flat.shape[1],)),\n",
        "    Dense(10, activation='softmax')\n",
        "])"
      ],
      "metadata": {
        "id": "QEvXwuG9Shqy"
      },
      "execution_count": 10,
      "outputs": []
    },
    {
      "cell_type": "code",
      "source": [
        "classifier.compile(optimizer='adam', loss='categorical_crossentropy', metrics=['accuracy'])\n",
        "classifier.fit(features_train_flat, y_train, epochs=10, batch_size=128, validation_data=(features_test_flat, y_test))"
      ],
      "metadata": {
        "colab": {
          "base_uri": "https://localhost:8080/"
        },
        "id": "EvfzJaK_SmUw",
        "outputId": "fbb9ad56-426d-49a8-8eda-b7171fbd09fe"
      },
      "execution_count": 11,
      "outputs": [
        {
          "output_type": "stream",
          "name": "stdout",
          "text": [
            "Epoch 1/10\n",
            "391/391 [==============================] - 4s 8ms/step - loss: 1.4068 - accuracy: 0.5106 - val_loss: 1.2647 - val_accuracy: 0.5549\n",
            "Epoch 2/10\n",
            "391/391 [==============================] - 3s 7ms/step - loss: 1.2026 - accuracy: 0.5790 - val_loss: 1.2135 - val_accuracy: 0.5771\n",
            "Epoch 3/10\n",
            "391/391 [==============================] - 3s 7ms/step - loss: 1.1436 - accuracy: 0.6019 - val_loss: 1.1739 - val_accuracy: 0.5862\n",
            "Epoch 4/10\n",
            "391/391 [==============================] - 4s 10ms/step - loss: 1.1037 - accuracy: 0.6162 - val_loss: 1.1536 - val_accuracy: 0.5946\n",
            "Epoch 5/10\n",
            "391/391 [==============================] - 3s 7ms/step - loss: 1.0706 - accuracy: 0.6274 - val_loss: 1.1385 - val_accuracy: 0.5999\n",
            "Epoch 6/10\n",
            "391/391 [==============================] - 2s 6ms/step - loss: 1.0393 - accuracy: 0.6383 - val_loss: 1.1262 - val_accuracy: 0.6053\n",
            "Epoch 7/10\n",
            "391/391 [==============================] - 3s 7ms/step - loss: 1.0145 - accuracy: 0.6457 - val_loss: 1.1251 - val_accuracy: 0.6072\n",
            "Epoch 8/10\n",
            "391/391 [==============================] - 4s 9ms/step - loss: 0.9902 - accuracy: 0.6531 - val_loss: 1.1029 - val_accuracy: 0.6150\n",
            "Epoch 9/10\n",
            "391/391 [==============================] - 3s 8ms/step - loss: 0.9654 - accuracy: 0.6646 - val_loss: 1.1133 - val_accuracy: 0.6126\n",
            "Epoch 10/10\n",
            "391/391 [==============================] - 3s 8ms/step - loss: 0.9401 - accuracy: 0.6724 - val_loss: 1.0996 - val_accuracy: 0.6130\n"
          ]
        },
        {
          "output_type": "execute_result",
          "data": {
            "text/plain": [
              "<keras.src.callbacks.History at 0x7cc63abf4610>"
            ]
          },
          "metadata": {},
          "execution_count": 11
        }
      ]
    },
    {
      "cell_type": "code",
      "source": [],
      "metadata": {
        "id": "U-PrmG0sSttJ"
      },
      "execution_count": null,
      "outputs": []
    }
  ]
}